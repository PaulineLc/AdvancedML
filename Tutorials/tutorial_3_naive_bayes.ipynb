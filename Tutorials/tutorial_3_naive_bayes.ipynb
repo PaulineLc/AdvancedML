{
 "cells": [
  {
   "cell_type": "code",
   "execution_count": 1,
   "metadata": {
    "collapsed": true
   },
   "outputs": [],
   "source": [
    "import pandas"
   ]
  },
  {
   "cell_type": "code",
   "execution_count": 2,
   "metadata": {
    "collapsed": true
   },
   "outputs": [],
   "source": [
    "def create_contingency_dict(df, target_feature):\n",
    "    all_columns = list(df.columns.values)\n",
    "    target_feature_values = list(df[target_feature].unique())\n",
    "    contingency_dict = {}\n",
    "    for column in all_columns:\n",
    "        all_categories = df[column].unique()\n",
    "        dict_cat_proba = {}\n",
    "        for cat1 in all_categories:\n",
    "            dict_target_feature_values = {}\n",
    "            for cat2 in target_feature_values:\n",
    "                dict_target_feature_values[cat2] = round(df[(df[target_feature] == cat2) & \n",
    "                                                      (df[column] == cat1)].shape[0] / \\\n",
    "                                                   df[df[target_feature] == cat2].shape[0], 2)\n",
    "            dict_cat_proba[cat1] = dict_target_feature_values\n",
    "        contingency_dict[column] = dict_cat_proba\n",
    "    return contingency_dict"
   ]
  },
  {
   "cell_type": "code",
   "execution_count": 3,
   "metadata": {
    "collapsed": true
   },
   "outputs": [],
   "source": [
    "def print_contingency_table(dict):\n",
    "    for category in dict:\n",
    "        print(category)\n",
    "        for feature in dict[category]:\n",
    "            print(feature, end=\"\")\n",
    "            for target_class in dict[category][feature]:\n",
    "                print(\"\\t\\t\", target_class, \"=\", dict[category][feature][target_class])"
   ]
  },
  {
   "cell_type": "markdown",
   "metadata": {},
   "source": [
    "# Question 1"
   ]
  },
  {
   "cell_type": "code",
   "execution_count": 4,
   "metadata": {
    "collapsed": false
   },
   "outputs": [
    {
     "name": "stdout",
     "output_type": "stream",
     "text": [
      "   RainRecently(RR) RainToday(RT) Temp(T)   Wind(W) Sunshine(S) Swimming\n",
      "1          Moderate      Moderate    Warm     Light        Some      Yes\n",
      "2             Light      Moderate    Warm  Moderate        None       No\n",
      "3          Moderate      Moderate    Cold      Gale        None       No\n",
      "4          Moderate      Moderate    Warm     Light        None      Yes\n",
      "5          Moderate         Light    Cold     Light        Some       No\n",
      "6             Heavy         Light    Cold  Moderate        Some      Yes\n",
      "7             Light         Light    Cold  Moderate        Some       No\n",
      "8          Moderate      Moderate    Cold      Gale        Some       No\n",
      "9             Heavy         Heavy    Warm  Moderate        None      Yes\n",
      "10            Light         Light    Cold     Light        Some       No\n"
     ]
    }
   ],
   "source": [
    "df1 = pandas.read_csv('Tutorials/tuto3_table1.txt', sep=\" \")\n",
    "\n",
    "print(df1)"
   ]
  },
  {
   "cell_type": "markdown",
   "metadata": {},
   "source": [
    "## A/ Construct the contingency table of conditional and prior probabilities that would be used by Naïve Bayes to build a classifier for this dataset."
   ]
  },
  {
   "cell_type": "code",
   "execution_count": 5,
   "metadata": {
    "collapsed": false
   },
   "outputs": [
    {
     "name": "stdout",
     "output_type": "stream",
     "text": [
      "Temp(T)\n",
      "Cold\t\t Yes = 0.25\n",
      "\t\t No = 0.83\n",
      "Warm\t\t Yes = 0.75\n",
      "\t\t No = 0.17\n",
      "RainToday(RT)\n",
      "Moderate\t\t Yes = 0.5\n",
      "\t\t No = 0.5\n",
      "Heavy\t\t Yes = 0.25\n",
      "\t\t No = 0.0\n",
      "Light\t\t Yes = 0.25\n",
      "\t\t No = 0.5\n",
      "Wind(W)\n",
      "Moderate\t\t Yes = 0.5\n",
      "\t\t No = 0.33\n",
      "Gale\t\t Yes = 0.0\n",
      "\t\t No = 0.33\n",
      "Light\t\t Yes = 0.5\n",
      "\t\t No = 0.33\n",
      "Sunshine(S)\n",
      "None\t\t Yes = 0.5\n",
      "\t\t No = 0.33\n",
      "Some\t\t Yes = 0.5\n",
      "\t\t No = 0.67\n",
      "RainRecently(RR)\n",
      "Moderate\t\t Yes = 0.5\n",
      "\t\t No = 0.5\n",
      "Heavy\t\t Yes = 0.5\n",
      "\t\t No = 0.0\n",
      "Light\t\t Yes = 0.0\n",
      "\t\t No = 0.5\n",
      "Swimming\n",
      "Yes\t\t Yes = 1.0\n",
      "\t\t No = 0.0\n",
      "No\t\t Yes = 0.0\n",
      "\t\t No = 1.0\n"
     ]
    }
   ],
   "source": [
    "contingency_q1 = create_contingency_dict(df1, \"Swimming\")\n",
    "\n",
    "print_contingency_table(contingency_q1)"
   ]
  },
  {
   "cell_type": "code",
   "execution_count": 6,
   "metadata": {
    "collapsed": false
   },
   "outputs": [
    {
     "name": "stdout",
     "output_type": "stream",
     "text": [
      "P(Swimming = Yes) = 0.4\n",
      "P(Swimming = No)  = 0.6\n"
     ]
    }
   ],
   "source": [
    "p_yes_q1 = df1[df1['Swimming'] == 'Yes'].shape[0] / df1.shape[0]\n",
    "p_no_q1 = df1[df1['Swimming'] == 'No'].shape[0] / df1.shape[0]\n",
    "\n",
    "print(\"P(Swimming = Yes) =\", p_yes_q1)\n",
    "print(\"P(Swimming = No)  =\", p_no_q1)"
   ]
  },
  {
   "cell_type": "markdown",
   "metadata": {},
   "source": [
    "## B/Based on the contingency table, classify the two new examples below using Naïve Bayes."
   ]
  },
  {
   "cell_type": "code",
   "execution_count": 7,
   "metadata": {
    "collapsed": false
   },
   "outputs": [
    {
     "name": "stdout",
     "output_type": "stream",
     "text": [
      "   RainRecently(RR) RainToday(RT) Temp(T) Wind(W) Sunshine(S) Swimming\n",
      "X1            Heavy      Moderate    Warm   Light        Some      ???\n",
      "X2            Light      Moderate    Warm   Light        Some      ???\n"
     ]
    }
   ],
   "source": [
    "df1b = pandas.read_csv('Tutorials/tuto3_table1b.txt', sep=\" \")\n",
    "\n",
    "print(df1b)"
   ]
  },
  {
   "cell_type": "markdown",
   "metadata": {},
   "source": [
    "### First example"
   ]
  },
  {
   "cell_type": "code",
   "execution_count": 8,
   "metadata": {
    "collapsed": false
   },
   "outputs": [
    {
     "name": "stdout",
     "output_type": "stream",
     "text": [
      "P(Yes|X1) = 1.0\n",
      "P(No|X1)  = 0.0\n",
      "\n",
      "Prediction: it will be possible to swim\n"
     ]
    }
   ],
   "source": [
    "p_x1_yes = p_yes_q1 * \\\n",
    "           contingency_q1['RainRecently(RR)']['Heavy']['Yes'] * \\\n",
    "           contingency_q1['RainToday(RT)']['Moderate']['Yes'] * \\\n",
    "           contingency_q1['Temp(T)']['Warm']['Yes'] * \\\n",
    "           contingency_q1['Wind(W)']['Light']['Yes'] * \\\n",
    "           contingency_q1['Sunshine(S)']['Some']['Yes']\n",
    "\n",
    "p_x1_no = p_no_q1 * \\\n",
    "          contingency_q1['RainRecently(RR)']['Heavy']['No'] * \\\n",
    "          contingency_q1['RainToday(RT)']['Moderate']['No'] * \\\n",
    "          contingency_q1['Temp(T)']['Warm']['No'] * \\\n",
    "          contingency_q1['Wind(W)']['Light']['No'] * \\\n",
    "          contingency_q1['Sunshine(S)']['Some']['No']\n",
    "\n",
    "#normalising to 1\n",
    "p_x1_yes *= 1 / (p_x1_yes + p_x1_no)\n",
    "p_x1_no *= 1 / (p_x1_yes + p_x1_no)\n",
    "\n",
    "print(\"P(Yes|X1) =\", p_x1_yes)\n",
    "print(\"P(No|X1)  =\", p_x1_no)\n",
    "print()\n",
    "print(\"Prediction: it will be possible to swim\")"
   ]
  },
  {
   "cell_type": "markdown",
   "metadata": {},
   "source": [
    "### Second example"
   ]
  },
  {
   "cell_type": "code",
   "execution_count": 9,
   "metadata": {
    "collapsed": false
   },
   "outputs": [
    {
     "name": "stdout",
     "output_type": "stream",
     "text": [
      "P(Yes|X2) = 0.0\n",
      "P(No|X2)  = 1.0\n",
      "\n",
      "Prediction: it will NOT be possible to swim\n"
     ]
    }
   ],
   "source": [
    "p_x2_yes = p_yes_q1 * \\\n",
    "           contingency_q1['RainRecently(RR)']['Light']['Yes'] * \\\n",
    "           contingency_q1['RainToday(RT)']['Moderate']['Yes'] * \\\n",
    "           contingency_q1['Temp(T)']['Warm']['Yes'] * \\\n",
    "           contingency_q1['Wind(W)']['Light']['Yes'] * \\\n",
    "           contingency_q1['Sunshine(S)']['Some']['Yes']\n",
    "\n",
    "p_x2_no = p_no_q1 * \\\n",
    "          contingency_q1['RainRecently(RR)']['Light']['No'] * \\\n",
    "          contingency_q1['RainToday(RT)']['Moderate']['No'] * \\\n",
    "          contingency_q1['Temp(T)']['Warm']['No'] * \\\n",
    "          contingency_q1['Wind(W)']['Light']['No'] * \\\n",
    "          contingency_q1['Sunshine(S)']['Some']['No']\n",
    "\n",
    "#normalising to 1\n",
    "p_x2_yes *= 1 / (p_x2_yes + p_x2_no)\n",
    "p_x2_no *= 1 / (p_x2_yes + p_x2_no)\n",
    "\n",
    "print(\"P(Yes|X2) =\", p_x2_yes)\n",
    "print(\"P(No|X2)  =\", p_x2_no)\n",
    "print()\n",
    "print(\"Prediction: it will NOT be possible to swim\")"
   ]
  },
  {
   "cell_type": "markdown",
   "metadata": {},
   "source": [
    "# Question 2"
   ]
  },
  {
   "cell_type": "code",
   "execution_count": 10,
   "metadata": {
    "collapsed": false
   },
   "outputs": [
    {
     "name": "stdout",
     "output_type": "stream",
     "text": [
      "    Name    Hair   Height    Build Lotion     Result\n",
      "1  Sarah  blonde  average    light     no  sunburned\n",
      "2   Dana  blonde     tall  average    yes       none\n",
      "3   Alex   brown    short  average    yes       none\n",
      "4  Annie  blonde    short  average     no  sunburned\n",
      "5  Emily     red  average    heavy     no  sunburned\n",
      "6   Pete   brown     tall    heavy     no       none\n",
      "7   John   brown  average    heavy     no       none\n",
      "8  Katie   brown    short    light    yes       none\n"
     ]
    }
   ],
   "source": [
    "df2 = pandas.read_csv('Tutorials/tuto3_table2.txt', sep=\" \")\n",
    "\n",
    "print(df2)"
   ]
  },
  {
   "cell_type": "markdown",
   "metadata": {},
   "source": [
    "## A/ Provide the contingency table of conditional and prior probabilities that would be used by Naïve Bayes to build a classifier for this dataset."
   ]
  },
  {
   "cell_type": "code",
   "execution_count": 11,
   "metadata": {
    "collapsed": false
   },
   "outputs": [
    {
     "name": "stdout",
     "output_type": "stream",
     "text": [
      "Result\n",
      "none\t\t none = 1.0\n",
      "\t\t sunburned = 0.0\n",
      "sunburned\t\t none = 0.0\n",
      "\t\t sunburned = 1.0\n",
      "Height\n",
      "average\t\t none = 0.2\n",
      "\t\t sunburned = 0.67\n",
      "short\t\t none = 0.4\n",
      "\t\t sunburned = 0.33\n",
      "tall\t\t none = 0.4\n",
      "\t\t sunburned = 0.0\n",
      "Build\n",
      "average\t\t none = 0.4\n",
      "\t\t sunburned = 0.33\n",
      "heavy\t\t none = 0.4\n",
      "\t\t sunburned = 0.33\n",
      "light\t\t none = 0.2\n",
      "\t\t sunburned = 0.33\n",
      "Hair\n",
      "blonde\t\t none = 0.2\n",
      "\t\t sunburned = 0.67\n",
      "red\t\t none = 0.0\n",
      "\t\t sunburned = 0.33\n",
      "brown\t\t none = 0.8\n",
      "\t\t sunburned = 0.0\n",
      "Lotion\n",
      "no\t\t none = 0.4\n",
      "\t\t sunburned = 1.0\n",
      "yes\t\t none = 0.6\n",
      "\t\t sunburned = 0.0\n"
     ]
    }
   ],
   "source": [
    "contingency_q2 = create_contingency_dict(df2[['Hair', 'Height', 'Build', 'Lotion', 'Result']], \"Result\")\n",
    "\n",
    "print_contingency_table(contingency_q2)"
   ]
  },
  {
   "cell_type": "code",
   "execution_count": 12,
   "metadata": {
    "collapsed": false
   },
   "outputs": [
    {
     "name": "stdout",
     "output_type": "stream",
     "text": [
      "P(Sunburned)     = 0.375\n",
      "P(Not sunburned) = 0.625\n"
     ]
    }
   ],
   "source": [
    "p_yes_q2 = df2[df2['Result'] == 'sunburned'].shape[0] / df2.shape[0]\n",
    "p_no_q2 = df2[df2['Result'] == 'none'].shape[0] / df2.shape[0]\n",
    "\n",
    "print(\"P(Sunburned)     =\", p_yes_q2)\n",
    "print(\"P(Not sunburned) =\", p_no_q2)"
   ]
  },
  {
   "cell_type": "markdown",
   "metadata": {},
   "source": [
    "## B/ Based on the contingency table, predict a risk level for the new loan application X below."
   ]
  },
  {
   "cell_type": "code",
   "execution_count": 13,
   "metadata": {
    "collapsed": false
   },
   "outputs": [
    {
     "name": "stdout",
     "output_type": "stream",
     "text": [
      "     Hair   Height  Build Lotion Result\n",
      "X  blonde  average  heavy     no    ???\n"
     ]
    }
   ],
   "source": [
    "df2b = pandas.read_csv('Tutorials/tuto3_table2b.txt', sep=\" \")\n",
    "\n",
    "print(df2b)"
   ]
  },
  {
   "cell_type": "code",
   "execution_count": 14,
   "metadata": {
    "collapsed": false
   },
   "outputs": [
    {
     "name": "stdout",
     "output_type": "stream",
     "text": [
      "P(Sunburned|X)     = 0.9328311059148507\n",
      "P(Not sunburned|X) = 0.0042697130515258145\n",
      "\n",
      "Predicted output: sunburned\n"
     ]
    }
   ],
   "source": [
    "q2_p_x_yes = p_yes_q2 * \\\n",
    "             contingency_q2['Hair']['blonde']['sunburned'] * \\\n",
    "             contingency_q2['Height']['average']['sunburned'] *\\\n",
    "             contingency_q2['Build']['heavy']['sunburned'] *\\\n",
    "             contingency_q2['Lotion']['no']['sunburned']\n",
    "\n",
    "q2_p_x_no = p_no_q2 * \\\n",
    "             contingency_q2['Hair']['blonde']['none'] * \\\n",
    "             contingency_q2['Height']['average']['none'] *\\\n",
    "             contingency_q2['Build']['heavy']['none'] *\\\n",
    "             contingency_q2['Lotion']['no']['none']\n",
    "\n",
    "#normalize to 1\n",
    "q2_p_x_yes *= 1/(q2_p_x_yes+q2_p_x_no)\n",
    "q2_p_x_no *= 1/(q2_p_x_yes+q2_p_x_no)\n",
    "\n",
    "print(\"P(Sunburned|X)     =\", q2_p_x_yes)\n",
    "print(\"P(Not sunburned|X) =\", q2_p_x_no)\n",
    "print()\n",
    "print(\"Predicted output: sunburned\")"
   ]
  },
  {
   "cell_type": "markdown",
   "metadata": {},
   "source": [
    "# Question 3"
   ]
  },
  {
   "cell_type": "code",
   "execution_count": 15,
   "metadata": {
    "collapsed": false
   },
   "outputs": [
    {
     "name": "stdout",
     "output_type": "stream",
     "text": [
      "   CreditHistory  Debt  Income    Risk\n",
      "1            bad   low   0to30    high\n",
      "2            bad  high  30to60    high\n",
      "3            bad   low   0to30    high\n",
      "4        unknown  high  30to60    high\n",
      "5        unknown  high   0to30    high\n",
      "6           good  high   0to30    high\n",
      "7            bad   low  over60  medium\n",
      "8        unknown   low  30to60  medium\n",
      "9           good  high  30to60  medium\n",
      "10       unknown   low  over60     low\n",
      "11       unknown   low  over60     low\n",
      "12          good   low  over60     low\n",
      "13          good  high  over60     low\n",
      "14          good  high  over60     low\n"
     ]
    }
   ],
   "source": [
    "df3 = pandas.read_csv('Tutorials/tuto3_table3.txt', sep=\" \")\n",
    "\n",
    "print(df3)"
   ]
  },
  {
   "cell_type": "markdown",
   "metadata": {},
   "source": [
    "## A/ Calculate the contingency table that would be used by Naïve Bayes to build a classifier using this training data."
   ]
  },
  {
   "cell_type": "code",
   "execution_count": 16,
   "metadata": {
    "collapsed": false
   },
   "outputs": [
    {
     "name": "stdout",
     "output_type": "stream",
     "text": [
      "Income\n",
      "0to30\t\t low = 0.0\n",
      "\t\t high = 0.67\n",
      "\t\t medium = 0.0\n",
      "over60\t\t low = 1.0\n",
      "\t\t high = 0.0\n",
      "\t\t medium = 0.33\n",
      "30to60\t\t low = 0.0\n",
      "\t\t high = 0.33\n",
      "\t\t medium = 0.67\n",
      "Risk\n",
      "low\t\t low = 1.0\n",
      "\t\t high = 0.0\n",
      "\t\t medium = 0.0\n",
      "high\t\t low = 0.0\n",
      "\t\t high = 1.0\n",
      "\t\t medium = 0.0\n",
      "medium\t\t low = 0.0\n",
      "\t\t high = 0.0\n",
      "\t\t medium = 1.0\n",
      "Debt\n",
      "low\t\t low = 0.6\n",
      "\t\t high = 0.33\n",
      "\t\t medium = 0.67\n",
      "high\t\t low = 0.4\n",
      "\t\t high = 0.67\n",
      "\t\t medium = 0.33\n",
      "CreditHistory\n",
      "unknown\t\t low = 0.4\n",
      "\t\t high = 0.33\n",
      "\t\t medium = 0.33\n",
      "bad\t\t low = 0.0\n",
      "\t\t high = 0.5\n",
      "\t\t medium = 0.33\n",
      "good\t\t low = 0.6\n",
      "\t\t high = 0.17\n",
      "\t\t medium = 0.33\n"
     ]
    }
   ],
   "source": [
    "contingency_q3 = create_contingency_dict(df3, 'Risk')\n",
    "\n",
    "print_contingency_table(contingency_q3)"
   ]
  },
  {
   "cell_type": "code",
   "execution_count": 17,
   "metadata": {
    "collapsed": false
   },
   "outputs": [
    {
     "name": "stdout",
     "output_type": "stream",
     "text": [
      "P(Risk=low)    = 0.35714285714285715\n",
      "P(Risk=medium) = 0.21428571428571427\n",
      "P(Risk=high)   = 0.42857142857142855\n"
     ]
    }
   ],
   "source": [
    "p_low = df3[df3['Risk'] == 'low'].shape[0] / df3.shape[0]\n",
    "p_med = df3[df3['Risk'] == 'medium'].shape[0] / df3.shape[0]\n",
    "p_high = df3[df3['Risk'] == 'high'].shape[0] / df3.shape[0]\n",
    "\n",
    "print(\"P(Risk=low)    =\", p_low)\n",
    "print(\"P(Risk=medium) =\", p_med)\n",
    "print(\"P(Risk=high)   =\", p_high)"
   ]
  },
  {
   "cell_type": "markdown",
   "metadata": {},
   "source": [
    "## B/ Based on the contingency table, predict a risk level for the new loan application X below."
   ]
  },
  {
   "cell_type": "code",
   "execution_count": 18,
   "metadata": {
    "collapsed": false
   },
   "outputs": [
    {
     "name": "stdout",
     "output_type": "stream",
     "text": [
      "  CreditHistory Debt  Income Risk\n",
      "X           bad  low  30to60  ???\n"
     ]
    }
   ],
   "source": [
    "df3b = pandas.read_csv('Tutorials/tuto3_table3b.txt', sep=\" \")\n",
    "\n",
    "print(df3b)"
   ]
  },
  {
   "cell_type": "code",
   "execution_count": 19,
   "metadata": {
    "collapsed": false
   },
   "outputs": [
    {
     "name": "stdout",
     "output_type": "stream",
     "text": [
      "P(low|X)  = 0.0\n",
      "P(med|X)  = 0.5763255873667994\n",
      "P(high|X) = 0.4236744126332007\n",
      "\n",
      "Predicted: medium risk\n"
     ]
    }
   ],
   "source": [
    "p_x_low = p_low *\\\n",
    "          contingency_q3['CreditHistory']['bad']['low'] *\\\n",
    "          contingency_q3['Debt']['low']['low'] *\\\n",
    "          contingency_q3['Income']['30to60']['low']\n",
    "\n",
    "p_x_med = p_med *\\\n",
    "          contingency_q3['CreditHistory']['bad']['medium'] *\\\n",
    "          contingency_q3['Debt']['low']['medium'] *\\\n",
    "          contingency_q3['Income']['30to60']['medium']\n",
    "\n",
    "p_x_high = p_high *\\\n",
    "          contingency_q3['CreditHistory']['bad']['high'] *\\\n",
    "          contingency_q3['Debt']['low']['high'] *\\\n",
    "          contingency_q3['Income']['30to60']['high']\n",
    "\n",
    "\n",
    "#Normalize to 1\n",
    "total = p_x_low + p_x_med + p_x_high\n",
    "p_x_low *= 1/total\n",
    "p_x_med *= 1/total\n",
    "p_x_high *= 1/total\n",
    "\n",
    "print(\"P(low|X)  =\", p_x_low)\n",
    "print(\"P(med|X)  =\", p_x_med)\n",
    "print(\"P(high|X) =\", p_x_high)\n",
    "print()\n",
    "print(\"Predicted: medium risk\")"
   ]
  }
 ],
 "metadata": {
  "kernelspec": {
   "display_name": "Python 3",
   "language": "python",
   "name": "python3"
  },
  "language_info": {
   "codemirror_mode": {
    "name": "ipython",
    "version": 3.0
   },
   "file_extension": ".py",
   "mimetype": "text/x-python",
   "name": "python",
   "nbconvert_exporter": "python",
   "pygments_lexer": "ipython3",
   "version": "3.5.1"
  }
 },
 "nbformat": 4,
 "nbformat_minor": 0
}