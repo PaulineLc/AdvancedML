{
 "cells": [
  {
   "cell_type": "code",
   "execution_count": null,
   "metadata": {
    "collapsed": true
   },
   "outputs": [],
   "source": [
    "import pandas"
   ]
  },
  {
   "cell_type": "code",
   "execution_count": 5,
   "metadata": {},
   "outputs": [
    {
     "name": "stdout",
     "output_type": "stream",
     "text": [
      "   RainRecently(RR) RainToday(RT) Temp(T)   Wind(W) Sunshine(S) Swimming\n1          Moderate      Moderate    Warm     Light        Some      Yes\n2             Light      Moderate    Warm  Moderate        None       No\n3          Moderate      Moderate    Cold      Gale        None       No\n4          Moderate      Moderate    Warm     Light        None      Yes\n5          Moderate         Light    Cold     Light        Some       No\n6             Heavy         Light    Cold  Moderate        Some      Yes\n7             Light         Light    Cold  Moderate        Some       No\n8          Moderate      Moderate    Cold      Gale        Some       No\n9             Heavy         Heavy    Warm  Moderate        None      Yes\n10            Light         Light    Cold     Light        Some       No\n"
     ]
    }
   ],
   "source": [
    "df1 = pandas.read_csv('Tutorials/tuto3_table1.txt', sep=\" \")\n",
    "\n",
    "print(df1)"
   ]
  },
  {
   "cell_type": "code",
   "execution_count": 31,
   "metadata": {},
   "outputs": [],
   "source": [
    "def create_contingency_dict(df, target_feature):\n",
    "    all_columns = list(df.columns.values)\n",
    "    target_feature_values = list(df[target_feature].unique())\n",
    "    contingency_dict = {}\n",
    "    for column in all_columns:\n",
    "        all_categories = df[column].unique()\n",
    "        dict_cat_proba = {}\n",
    "        for cat1 in all_categories:\n",
    "            dict_target_feature_values = {}\n",
    "            for cat2 in target_feature_values:\n",
    "                dict_target_feature_values[cat2] = df[(df[target_feature] == cat2) & \n",
    "                                                      (df[column] == cat1)].shape[0] / \\\n",
    "                                                   df[df[target_feature] == cat2].shape[0]\n",
    "            dict_cat_proba[cat1] = dict_target_feature_values\n",
    "        contingency_dict[column] = dict_cat_proba\n",
    "    return contingency_dict"
   ]
  },
  {
   "cell_type": "code",
   "execution_count": 22,
   "metadata": {},
   "outputs": [
    {
     "name": "stdout",
     "output_type": "stream",
     "text": [
      "2\n"
     ]
    }
   ],
   "source": [
    "print(df1[(df1[\"Swimming\"] == \"Yes\") & (df1[\"Sunshine(S)\"] == \"Some\")].shape[0])"
   ]
  },
  {
   "cell_type": "code",
   "execution_count": 32,
   "metadata": {},
   "outputs": [
    {
     "data": {
      "text/plain": [
       "{'RainRecently(RR)': {'Heavy': {'No': 0.0, 'Yes': 0.5},\n  'Light': {'No': 0.5, 'Yes': 0.0},\n  'Moderate': {'No': 0.5, 'Yes': 0.5}},\n 'RainToday(RT)': {'Heavy': {'No': 0.0, 'Yes': 0.25},\n  'Light': {'No': 0.5, 'Yes': 0.25},\n  'Moderate': {'No': 0.5, 'Yes': 0.5}},\n 'Sunshine(S)': {'None': {'No': 0.3333333333333333, 'Yes': 0.5},\n  'Some': {'No': 0.6666666666666666, 'Yes': 0.5}},\n 'Swimming': {'No': {'No': 1.0, 'Yes': 0.0}, 'Yes': {'No': 0.0, 'Yes': 1.0}},\n 'Temp(T)': {'Cold': {'No': 0.8333333333333334, 'Yes': 0.25},\n  'Warm': {'No': 0.16666666666666666, 'Yes': 0.75}},\n 'Wind(W)': {'Gale': {'No': 0.3333333333333333, 'Yes': 0.0},\n  'Light': {'No': 0.3333333333333333, 'Yes': 0.5},\n  'Moderate': {'No': 0.3333333333333333, 'Yes': 0.5}}}"
      ]
     },
     "execution_count": 32,
     "metadata": {},
     "output_type": "execute_result"
    }
   ],
   "source": [
    "create_contingency_dict(df1, \"Swimming\")"
   ]
  },
  {
   "cell_type": "code",
   "execution_count": 34,
   "metadata": {},
   "outputs": [
    {
     "name": "stdout",
     "output_type": "stream",
     "text": [
      "    Name    Hair   Height    Build Lotion     Result\n1  Sarah  blonde  average    light     no  sunburned\n2   Dana  blonde     tall  average    yes       none\n3   Alex   brown    short  average    yes       none\n4  Annie  blonde    short  average     no  sunburned\n5  Emily     red  average    heavy     no  sunburned\n6   Pete   brown     tall    heavy     no       none\n7   John   brown  average    heavy     no       none\n8  Katie   brown    short    light    yes       none\n"
     ]
    }
   ],
   "source": [
    "df2 = pandas.read_csv('Tutorials/tuto3_table2.txt', sep=\" \")\n",
    "\n",
    "print(df2)"
   ]
  },
  {
   "cell_type": "code",
   "execution_count": 36,
   "metadata": {},
   "outputs": [
    {
     "name": "stdout",
     "output_type": "stream",
     "text": [
      "{'Name': {'Annie': {'sunburned': 0.3333333333333333, 'none': 0.0}, 'Emily': {'sunburned': 0.3333333333333333, 'none': 0.0}, 'John': {'sunburned': 0.0, 'none': 0.2}, 'Pete': {'sunburned': 0.0, 'none': 0.2}, 'Sarah': {'sunburned': 0.3333333333333333, 'none': 0.0}, 'Alex': {'sunburned': 0.0, 'none': 0.2}, 'Dana': {'sunburned': 0.0, 'none': 0.2}, 'Katie': {'sunburned': 0.0, 'none': 0.2}}, 'Build': {'average': {'sunburned': 0.3333333333333333, 'none': 0.4}, 'light': {'sunburned': 0.3333333333333333, 'none': 0.2}, 'heavy': {'sunburned': 0.3333333333333333, 'none': 0.4}}, 'Height': {'average': {'sunburned': 0.6666666666666666, 'none': 0.2}, 'tall': {'sunburned': 0.0, 'none': 0.4}, 'short': {'sunburned': 0.3333333333333333, 'none': 0.4}}, 'Lotion': {'yes': {'sunburned': 0.0, 'none': 0.6}, 'no': {'sunburned': 1.0, 'none': 0.4}}, 'Hair': {'blonde': {'sunburned': 0.6666666666666666, 'none': 0.2}, 'brown': {'sunburned': 0.0, 'none': 0.8}, 'red': {'sunburned': 0.3333333333333333, 'none': 0.0}}, 'Result': {'sunburned': {'sunburned': 1.0, 'none': 0.0}, 'none': {'sunburned': 0.0, 'none': 1.0}}}\n"
     ]
    }
   ],
   "source": [
    "print(create_contingency_dict(df2, \"Result\"))"
   ]
  },
  {
   "cell_type": "code",
   "execution_count": null,
   "metadata": {},
   "outputs": [],
   "source": [
    "test = create_contingency_dict(df2, \"Result\")"
   ]
  },
  {
   "cell_type": "code",
   "execution_count": null,
   "metadata": {},
   "outputs": [],
   "source": [
    "for inner in test:\n",
    "    print(inner)"
   ]
  },
  {
   "cell_type": "code",
   "execution_count": null,
   "outputs": [],
   "source": [
    ""
   ]
  }
 ],
 "metadata": {
  "kernelspec": {
   "display_name": "Python 2",
   "language": "python",
   "name": "python2"
  },
  "language_info": {
   "codemirror_mode": {
    "name": "ipython",
    "version": 2.0
   },
   "file_extension": ".py",
   "mimetype": "text/x-python",
   "name": "python",
   "nbconvert_exporter": "python",
   "pygments_lexer": "ipython2",
   "version": "2.7.6"
  }
 },
 "nbformat": 4,
 "nbformat_minor": 0
}