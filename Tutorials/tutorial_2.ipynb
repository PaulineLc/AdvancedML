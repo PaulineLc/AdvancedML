{
 "cells": [
  {
   "cell_type": "code",
   "execution_count": 6,
   "metadata": {
    "collapsed": true
   },
   "outputs": [],
   "source": [
    "import math\n",
    "import pandas"
   ]
  },
  {
   "cell_type": "code",
   "execution_count": 36,
   "metadata": {},
   "outputs": [],
   "source": [
    "def calculate_entropy(feature):\n",
    "    entropy = 0\n",
    "    categories = feature.unique()\n",
    "    total_count = feature.shape[0]\n",
    "    for category in categories:\n",
    "        cat_count =  feature[feature == category].count()\n",
    "        entropy += cat_count / total_count * math.log(cat_count / total_count, 2) if cat_count > 0 else 0\n",
    "    return -1 * entropy"
   ]
  },
  {
   "cell_type": "code",
   "execution_count": 64,
   "metadata": {},
   "outputs": [],
   "source": [
    "def calculate_entropy_per_feature(df, feature, target_class):\n",
    "    categories = df[feature].unique()\n",
    "    entropies = {}\n",
    "    \n",
    "    for i, category in enumerate(categories):\n",
    "        current_entropy = calculate_entropy(df[df[feature] == categories[i]][target_class])\n",
    "        entropies[category] = current_entropy\n",
    "        \n",
    "    return entropies"
   ]
  },
  {
   "cell_type": "code",
   "execution_count": 69,
   "metadata": {},
   "outputs": [],
   "source": [
    "def print_feature_entropy(df, feature, target_class):\n",
    "    entropies = calculate_entropy_per_feature(df, feature, target_class)\n",
    "    for entropy in entropies:\n",
    "        print(\"Entropy({} = {})\\t=\\t{}\".format(feature, entropy, round(entropies[entropy], 4)))"
   ]
  },
  {
   "cell_type": "code",
   "execution_count": null,
   "metadata": {},
   "outputs": [],
   "source": [
    ""
   ]
  },
  {
   "cell_type": "code",
   "execution_count": null,
   "metadata": {},
   "outputs": [],
   "source": [
    "def calculate_information_gain():\n",
    "    pass"
   ]
  },
  {
   "cell_type": "markdown",
   "metadata": {},
   "source": [
    "# Question 1"
   ]
  },
  {
   "cell_type": "code",
   "execution_count": 13,
   "metadata": {},
   "outputs": [
    {
     "name": "stdout",
     "output_type": "stream",
     "text": [
      "    Name    Hair   Height    Build Lotion     Result\n1  Sarah  blonde  average    light     no  sunburned\n2   Dana  blonde     tall  average    yes       none\n3   Alex   brown    short  average    yes       none\n4  Annie  blonde    short  average     no  sunburned\n5  Emily     red  average    heavy     no  sunburned\n6   Pete   brown     tall    heavy     no       none\n7   John   brown  average    heavy     no       none\n8  Katie   brown    short    light    yes       none\n"
     ]
    }
   ],
   "source": [
    "table1 = open('tuto2_table1.txt', encoding='utf8')\n",
    "\n",
    "df1 = pandas.read_csv('tuto2_table1.txt', sep=\" \")\n",
    "\n",
    "print(df1)"
   ]
  },
  {
   "cell_type": "markdown",
   "metadata": {},
   "source": [
    "## A/ Dataset entropy"
   ]
  },
  {
   "cell_type": "code",
   "execution_count": 44,
   "metadata": {},
   "outputs": [
    {
     "name": "stdout",
     "output_type": "stream",
     "text": [
      "Question:\t What is the entropy of this dataset with respect to the target classlabel Result?\nAnswer\t\t 0.9544\n"
     ]
    }
   ],
   "source": [
    "q1_overall_entropy = calculate_entropy(df1['Result'])\n",
    "\n",
    "print(\"Question:\\t What is the entropy of this dataset with respect to the target classlabel Result?\")\n",
    "print(\"Answer\\t\\t\", round(q1_overall_entropy, 4))"
   ]
  },
  {
   "cell_type": "markdown",
   "metadata": {},
   "source": [
    "## B/ Decision tree & feature selection"
   ]
  },
  {
   "cell_type": "markdown",
   "metadata": {},
   "source": [
    "### Step 1: Calculate entropy for each feature"
   ]
  },
  {
   "cell_type": "code",
   "execution_count": 67,
   "metadata": {},
   "outputs": [],
   "source": [
    "target_class = 'Result'"
   ]
  },
  {
   "cell_type": "markdown",
   "metadata": {},
   "source": [
    "#### Feature = Hair"
   ]
  },
  {
   "cell_type": "code",
   "execution_count": 70,
   "metadata": {},
   "outputs": [
    {
     "name": "stdout",
     "output_type": "stream",
     "text": [
      "Entropy(Hair = brown)\t=\t-0.0\nEntropy(Hair = blonde)\t=\t0.9183\nEntropy(Hair = red)\t=\t-0.0\n"
     ]
    }
   ],
   "source": [
    "print_feature_entropy(df1, feature='Hair', target_class=target_class)"
   ]
  },
  {
   "cell_type": "markdown",
   "metadata": {},
   "source": [
    "#### Feature = Height"
   ]
  },
  {
   "cell_type": "code",
   "execution_count": 71,
   "metadata": {},
   "outputs": [
    {
     "name": "stdout",
     "output_type": "stream",
     "text": [
      "Entropy(Height = tall)\t=\t-0.0\nEntropy(Height = short)\t=\t0.9183\nEntropy(Height = average)\t=\t0.9183\n"
     ]
    }
   ],
   "source": [
    "print_feature_entropy(df1, feature='Height', target_class=target_class)"
   ]
  },
  {
   "cell_type": "markdown",
   "metadata": {},
   "source": [
    "#### Feature = Build"
   ]
  },
  {
   "cell_type": "code",
   "execution_count": 72,
   "metadata": {},
   "outputs": [
    {
     "name": "stdout",
     "output_type": "stream",
     "text": [
      "Entropy(Build = heavy)\t=\t0.9183\nEntropy(Build = light)\t=\t1.0\nEntropy(Build = average)\t=\t0.9183\n"
     ]
    }
   ],
   "source": [
    "print_feature_entropy(df1, feature='Build', target_class=target_class)"
   ]
  },
  {
   "cell_type": "markdown",
   "metadata": {},
   "source": [
    "#### Feature = Lotion"
   ]
  },
  {
   "cell_type": "code",
   "execution_count": 73,
   "metadata": {},
   "outputs": [
    {
     "name": "stdout",
     "output_type": "stream",
     "text": [
      "Entropy(Lotion = no)\t=\t0.971\nEntropy(Lotion = yes)\t=\t-0.0\n"
     ]
    }
   ],
   "source": [
    "print_feature_entropy(df1, feature='Lotion', target_class='Result')"
   ]
  },
  {
   "cell_type": "markdown",
   "metadata": {},
   "source": [
    "### Step 2: Calculate entropy for each feature"
   ]
  },
  {
   "cell_type": "code",
   "execution_count": 31,
   "metadata": {},
   "outputs": [
    {
     "name": "stdout",
     "output_type": "stream",
     "text": [
      "0.6100730651545314\n"
     ]
    }
   ],
   "source": [
    "#hair color entropy\n",
    "hair_entropy = q1_overall_entropy - ( (3/8) * calculate_entropy(1,2, total=3) + \n",
    "                                 (4/8) * calculate_entropy(4,0, total=4) +\n",
    "                                 (1/8) * calculate_entropy(1,0, total=1))\n",
    "\n",
    "print(hair_entropy)"
   ]
  },
  {
   "cell_type": "code",
   "execution_count": 32,
   "metadata": {},
   "outputs": [
    {
     "name": "stdout",
     "output_type": "stream",
     "text": [
      "1.5306189948485172\n"
     ]
    }
   ],
   "source": [
    "#question 2\n",
    "\n",
    "q2_overall_entropy = calculate_entropy(6, 3, 5, total=14)\n",
    "print(q2_overall_entropy)"
   ]
  },
  {
   "cell_type": "code",
   "execution_count": 33,
   "metadata": {},
   "outputs": [
    {
     "name": "stdout",
     "output_type": "stream",
     "text": [
      "0.8112781244591328\n1.5219280948873621\n1.3709505944546687\n\n0.26565428452375395\n"
     ]
    }
   ],
   "source": [
    "bad_credit_history_entropy = calculate_entropy(3, 1, 0, total=4)\n",
    "print(bad_credit_history_entropy)\n",
    "\n",
    "unknown_credit_history_entropy = calculate_entropy(2, 1, 2, total=5)\n",
    "print(unknown_credit_history_entropy)\n",
    "\n",
    "good_credit_history_entropy = calculate_entropy(1, 1, 3, total=5)\n",
    "print(good_credit_history_entropy)\n",
    "\n",
    "print()\n",
    "\n",
    "credit_history_information_gain = q2_overall_entropy - ( (4/14) * bad_credit_history_entropy +\n",
    "                                             (5/14) * unknown_credit_history_entropy +\n",
    "                                             (5/14) * good_credit_history_entropy)\n",
    "print(credit_history_information_gain)"
   ]
  },
  {
   "cell_type": "code",
   "execution_count": 34,
   "metadata": {},
   "outputs": [
    {
     "name": "stdout",
     "output_type": "stream",
     "text": [
      "1.5566567074628228\n1.3787834934861758\n\n0.06289889437401786\n"
     ]
    }
   ],
   "source": [
    "low_debt_entropy = calculate_entropy(2, 2, 3, total=7)\n",
    "print(low_debt_entropy)\n",
    "\n",
    "high_debt_entropy = calculate_entropy(4, 1, 2, total = 7)\n",
    "print(high_debt_entropy)\n",
    "\n",
    "print()\n",
    "\n",
    "debt_information_gain = q2_overall_entropy - ( 7/14 * low_debt_entropy + 7/14 * high_debt_entropy)\n",
    "print(debt_information_gain)"
   ]
  },
  {
   "cell_type": "code",
   "execution_count": 35,
   "metadata": {},
   "outputs": [
    {
     "name": "stdout",
     "output_type": "stream",
     "text": [
      "-0.0\n1.0\n0.6500224216483541\n\n0.20923843836506406\n"
     ]
    }
   ],
   "source": [
    "low_income_entropy = calculate_entropy(4, 0, 0, total = 4)\n",
    "print(low_income_entropy)\n",
    "\n",
    "medium_income_entropy = calculate_entropy(2, 2, total = 4)\n",
    "print(medium_income_entropy)\n",
    "\n",
    "high_income_entropy = calculate_entropy(0, 1, 5, total = 6)\n",
    "print(high_income_entropy)\n",
    "\n",
    "print()\n",
    "\n",
    "income_information_gain = q2_overall_entropy - (4/14 * low_debt_entropy +\n",
    "                                             4/14 * medium_income_entropy +\n",
    "                                             6/14 * high_debt_entropy)\n",
    "print(income_information_gain)"
   ]
  },
  {
   "cell_type": "code",
   "execution_count": null,
   "metadata": {},
   "outputs": [],
   "source": [
    ""
   ]
  }
 ],
 "metadata": {
  "kernelspec": {
   "display_name": "Python 2",
   "language": "python",
   "name": "python2"
  },
  "language_info": {
   "codemirror_mode": {
    "name": "ipython",
    "version": 2.0
   },
   "file_extension": ".py",
   "mimetype": "text/x-python",
   "name": "python",
   "nbconvert_exporter": "python",
   "pygments_lexer": "ipython2",
   "version": "2.7.6"
  }
 },
 "nbformat": 4,
 "nbformat_minor": 0
}