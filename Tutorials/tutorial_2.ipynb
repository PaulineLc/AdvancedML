{
 "cells": [
  {
   "cell_type": "code",
   "execution_count": 1,
   "metadata": {
    "collapsed": true
   },
   "outputs": [],
   "source": [
    "import math\n",
    "import pandas"
   ]
  },
  {
   "cell_type": "code",
   "execution_count": 2,
   "metadata": {},
   "outputs": [],
   "source": [
    "def calculate_entropy(feature):\n",
    "    entropy = 0\n",
    "    categories = feature.unique()\n",
    "    total_count = feature.shape[0]\n",
    "    for category in categories:\n",
    "        cat_count =  feature[feature == category].count()\n",
    "        entropy += cat_count / total_count * math.log(cat_count / total_count, 2) if cat_count > 0 else 0\n",
    "    return -1 * entropy"
   ]
  },
  {
   "cell_type": "code",
   "execution_count": 3,
   "metadata": {},
   "outputs": [],
   "source": [
    "def calculate_entropy_per_feature(df, feature_name, target_class):\n",
    "    categories = df[feature_name].unique()\n",
    "    entropies = {}\n",
    "    \n",
    "    for i, category in enumerate(categories):\n",
    "        current_entropy = calculate_entropy(df[df[feature_name] == categories[i]][target_class])\n",
    "        entropies[category] = current_entropy\n",
    "        \n",
    "    return entropies"
   ]
  },
  {
   "cell_type": "code",
   "execution_count": 40,
   "metadata": {},
   "outputs": [],
   "source": [
    "def print_feature_entropy(entropies):\n",
    "    for entropy in entropies:\n",
    "        print(\"Entropy({} = {})\\t=\\t{}\".format(feature, entropy, round(entropies[entropy], 4)))"
   ]
  },
  {
   "cell_type": "code",
   "execution_count": 29,
   "metadata": {},
   "outputs": [],
   "source": [
    "def calculate_information_gain(overall_entropy, feature, entropy_per_feature):\n",
    "    local_entropy = 0\n",
    "    for category in entropy_per_feature:\n",
    "        local_entropy += (feature[feature == category].shape[0] / feature.shape[0]) \\\n",
    "                    * entropy_per_feature[category]\n",
    "    return overall_entropy - local_entropy"
   ]
  },
  {
   "cell_type": "markdown",
   "metadata": {},
   "source": [
    "# Question 1"
   ]
  },
  {
   "cell_type": "code",
   "execution_count": 6,
   "metadata": {},
   "outputs": [
    {
     "name": "stdout",
     "output_type": "stream",
     "text": [
      "    Name    Hair   Height    Build Lotion     Result\n1  Sarah  blonde  average    light     no  sunburned\n2   Dana  blonde     tall  average    yes       none\n3   Alex   brown    short  average    yes       none\n4  Annie  blonde    short  average     no  sunburned\n5  Emily     red  average    heavy     no  sunburned\n6   Pete   brown     tall    heavy     no       none\n7   John   brown  average    heavy     no       none\n8  Katie   brown    short    light    yes       none\n"
     ]
    }
   ],
   "source": [
    "df1 = pandas.read_csv('Tutorials/tuto2_table1.txt', sep=\" \")\n",
    "\n",
    "print(df1)"
   ]
  },
  {
   "cell_type": "markdown",
   "metadata": {},
   "source": [
    "## A/ Dataset entropy"
   ]
  },
  {
   "cell_type": "code",
   "execution_count": 7,
   "metadata": {},
   "outputs": [
    {
     "name": "stdout",
     "output_type": "stream",
     "text": [
      "Question:\t What is the entropy of this dataset with respect to the target classlabel Result?\nAnswer\t\t 0.9544\n"
     ]
    }
   ],
   "source": [
    "q1_overall_entropy = calculate_entropy(df1['Result'])\n",
    "\n",
    "print(\"Question:\\t What is the entropy of this dataset with respect to the target classlabel Result?\")\n",
    "print(\"Answer\\t\\t\", round(q1_overall_entropy, 4))"
   ]
  },
  {
   "cell_type": "markdown",
   "metadata": {},
   "source": [
    "## B/ Decision tree & feature selection"
   ]
  },
  {
   "cell_type": "markdown",
   "metadata": {},
   "source": [
    "### Step 1: Calculate overall dataset entropy (cf Q1/A/)"
   ]
  },
  {
   "cell_type": "markdown",
   "metadata": {},
   "source": [
    "### Step 2: Calculate entropy for each feature"
   ]
  },
  {
   "cell_type": "code",
   "execution_count": 44,
   "metadata": {},
   "outputs": [
    {
     "name": "stdout",
     "output_type": "stream",
     "text": [
      "Feature: Hair\n\nEntropy(Hair = blonde)\t=\t0.9183\nEntropy(Hair = red)\t=\t-0.0\nEntropy(Hair = brown)\t=\t-0.0\n\n\nFeature: Height\n\nEntropy(Height = average)\t=\t0.9183\nEntropy(Height = tall)\t=\t-0.0\nEntropy(Height = short)\t=\t0.9183\n\n\nFeature: Build\n\nEntropy(Build = heavy)\t=\t0.9183\nEntropy(Build = average)\t=\t0.9183\nEntropy(Build = light)\t=\t1.0\n\n\nFeature: Lotion\n\nEntropy(Lotion = no)\t=\t0.971\nEntropy(Lotion = yes)\t=\t-0.0\n\n\n"
     ]
    }
   ],
   "source": [
    "list_features = list(df1.columns.values)\n",
    "list_features.remove(\"Name\")\n",
    "list_features.remove(\"Result\")\n",
    "\n",
    "target_class = 'Result'\n",
    "\n",
    "entropy_per_feature = {}\n",
    "\n",
    "for feature in list_features:\n",
    "    curr_entropy = calculate_entropy_per_feature(df1, feature, target_class)\n",
    "    entropy_per_feature[feature] = curr_entropy\n",
    "    print(\"Feature:\", feature)\n",
    "    print()\n",
    "    print_feature_entropy(curr_entropy)\n",
    "    print()\n",
    "    print()"
   ]
  },
  {
   "cell_type": "markdown",
   "metadata": {},
   "source": [
    "### Step 3: Calculate Information Gain for each feature"
   ]
  },
  {
   "cell_type": "code",
   "execution_count": 50,
   "metadata": {},
   "outputs": [
    {
     "name": "stdout",
     "output_type": "stream",
     "text": [
      "Feature:\t\t Hair\nInformation gain:\t 0.6101\n\nFeature:\t\t Height\nInformation gain:\t 0.2657\n\nFeature:\t\t Build\nInformation gain:\t 0.0157\n\nFeature:\t\t Lotion\nInformation gain:\t 0.3476\n\n"
     ]
    }
   ],
   "source": [
    "information_gain_per_feature = {}\n",
    "\n",
    "for feature in list_features:\n",
    "    curr_information_gain = calculate_information_gain(q1_overall_entropy, \n",
    "                                                       df1[feature],\n",
    "                                                       entropy_per_feature[feature])\n",
    "    information_gain_per_feature[feature] = curr_information_gain\n",
    "    print(\"Feature:\\t\\t\", feature)\n",
    "    print(\"Information gain:\\t\", round(curr_information_gain, 4))\n",
    "    print()"
   ]
  },
  {
   "cell_type": "code",
   "execution_count": 54,
   "metadata": {},
   "outputs": [
    {
     "name": "stdout",
     "output_type": "stream",
     "text": [
      "Question:\nConstruct the decision tree that would be built with Information Gain for this dataset. Show your work for selection of the root feature in your tree.\n\nAnswer:\n\"Hair\" will be selected as it is the feature with the highest IG value. It perfectly classifies the data for Hair=brown & Hair=red. It will be used to split the root node of the tree. The case for Hair=blonde contains (2 sunburned, 1 none). We Can split these into pure child nodes using feature \"Lotion\".\n"
     ]
    }
   ],
   "source": [
    "print(\"Question:\\nConstruct the decision tree that would be built with Information Gain for this dataset. Show your work for selection of the root feature in your tree.\")\n",
    "\n",
    "print()\n",
    "\n",
    "print(\"Answer:\\n\\\"Hair\\\" will be selected as it is the feature with the highest IG value. It perfectly classifies the data for Hair=brown & Hair=red. It will be used to split the root node of the tree. The case for Hair=blonde contains (2 sunburned, 1 none). We Can split these into pure child nodes using feature \\\"Lotion\\\".\")"
   ]
  },
  {
   "cell_type": "markdown",
   "metadata": {},
   "source": [
    "## C/ New element classification"
   ]
  },
  {
   "cell_type": "code",
   "execution_count": 56,
   "metadata": {},
   "outputs": [
    {
     "name": "stdout",
     "output_type": "stream",
     "text": [
      "Height: tall\nHair: Blond\nBuild: average\nName: Dana\nLotion: True\n"
     ]
    }
   ],
   "source": [
    "# hard-coded tree\n",
    "def decision_tree(hair_color, applied_lotion):\n",
    "    if hair_color == \"Blonde\":\n",
    "        if applied_lotion:\n",
    "            return False\n",
    "        return True\n",
    "    return False\n",
    "\n",
    "new_person = {\"Name\": \"Dana\", \n",
    "              \"Hair\": \"Blond\", \n",
    "              \"Height\": \"tall\", \n",
    "              \"Build\":\"average\", \n",
    "              \"Lotion\":True}\n",
    "\n",
    "for data in new_person:\n",
    "    print(\"{}: {}\".format(data, new_person[data]))"
   ]
  },
  {
   "cell_type": "code",
   "execution_count": 60,
   "metadata": {},
   "outputs": [
    {
     "name": "stdout",
     "output_type": "stream",
     "text": [
      "Question:\tUsing your decision tree from (b), how would you classify the following example X?\nAnswer:\t\tnot sunburned\n"
     ]
    }
   ],
   "source": [
    "print(\"Question:\\tUsing your decision tree from (b), how would you classify the following example X?\")\n",
    "sunburned = decision_tree(new_person['Hair'], new_person['Lotion'])\n",
    "if sunburned:   \n",
    "    print(\"Answer:\\t\\t{}\".format(\"sunburned\"))\n",
    "else:\n",
    "    print(\"Answer:\\t\\t{}\".format(\"not sunburned\"))"
   ]
  },
  {
   "cell_type": "markdown",
   "metadata": {},
   "source": [
    "# Question 2"
   ]
  },
  {
   "cell_type": "code",
   "execution_count": null,
   "outputs": [],
   "source": [
    ""
   ]
  }
 ],
 "metadata": {
  "kernelspec": {
   "display_name": "Python 2",
   "language": "python",
   "name": "python2"
  },
  "language_info": {
   "codemirror_mode": {
    "name": "ipython",
    "version": 2.0
   },
   "file_extension": ".py",
   "mimetype": "text/x-python",
   "name": "python",
   "nbconvert_exporter": "python",
   "pygments_lexer": "ipython2",
   "version": "2.7.6"
  }
 },
 "nbformat": 4,
 "nbformat_minor": 0
}