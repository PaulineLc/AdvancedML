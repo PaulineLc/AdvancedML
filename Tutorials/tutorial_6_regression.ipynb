{
 "cells": [
  {
   "cell_type": "code",
   "execution_count": 1,
   "metadata": {
    "collapsed": true
   },
   "outputs": [],
   "source": [
    "import pandas as pd"
   ]
  },
  {
   "cell_type": "code",
   "execution_count": 31,
   "metadata": {
    "collapsed": true
   },
   "outputs": [],
   "source": [
    "def calculate_covariance(y, x):\n",
    "    temp_sum = 0\n",
    "    mean_x = x.mean()\n",
    "    mean_y = y.mean()\n",
    "    n = x.shape[0] # could take either x or y\n",
    "    for i in range(n):\n",
    "        temp_sum += (y[i] - mean_y) * (x[i] - mean_x)\n",
    "    return temp_sum / (n - 1)"
   ]
  },
  {
   "cell_type": "code",
   "execution_count": 36,
   "metadata": {
    "collapsed": false
   },
   "outputs": [],
   "source": [
    "def calculate_s_squared(y):\n",
    "    temp_sum = 0\n",
    "    n = x.shape[0]\n",
    "    mean_x = x.mean()\n",
    "    for i in range(n):\n",
    "        temp_sum += (x[i] - mean_x)**2\n",
    "    return temp_sum / (n - 1)"
   ]
  },
  {
   "cell_type": "code",
   "execution_count": 44,
   "metadata": {
    "collapsed": true
   },
   "outputs": [],
   "source": [
    "def calculate_beta2(beta1, y, x):\n",
    "    mean_x = x.mean()\n",
    "    mean_y = y.mean()\n",
    "    return mean_y - beta1 * mean_x"
   ]
  },
  {
   "cell_type": "markdown",
   "metadata": {},
   "source": [
    "# Question 1\n",
    "\n",
    "## An estate agent is interested in the relationship between the sale price of a house and its size (square feet), by studying the data below (also contained in regression_q1.csv)."
   ]
  },
  {
   "cell_type": "code",
   "execution_count": 7,
   "metadata": {
    "collapsed": false
   },
   "outputs": [
    {
     "data": {
      "text/html": [
       "<div>\n",
       "<table border=\"1\" class=\"dataframe\">\n",
       "  <thead>\n",
       "    <tr style=\"text-align: right;\">\n",
       "      <th></th>\n",
       "      <th>Size</th>\n",
       "      <th>Price</th>\n",
       "    </tr>\n",
       "  </thead>\n",
       "  <tbody>\n",
       "    <tr>\n",
       "      <th>0</th>\n",
       "      <td>1112</td>\n",
       "      <td>220.0</td>\n",
       "    </tr>\n",
       "    <tr>\n",
       "      <th>1</th>\n",
       "      <td>756</td>\n",
       "      <td>95.0</td>\n",
       "    </tr>\n",
       "    <tr>\n",
       "      <th>2</th>\n",
       "      <td>1975</td>\n",
       "      <td>589.0</td>\n",
       "    </tr>\n",
       "    <tr>\n",
       "      <th>3</th>\n",
       "      <td>1850</td>\n",
       "      <td>130.0</td>\n",
       "    </tr>\n",
       "    <tr>\n",
       "      <th>4</th>\n",
       "      <td>1852</td>\n",
       "      <td>550.0</td>\n",
       "    </tr>\n",
       "  </tbody>\n",
       "</table>\n",
       "</div>"
      ],
      "text/plain": [
       "   Size  Price\n",
       "0  1112  220.0\n",
       "1   756   95.0\n",
       "2  1975  589.0\n",
       "3  1850  130.0\n",
       "4  1852  550.0"
      ]
     },
     "execution_count": 7,
     "metadata": {},
     "output_type": "execute_result"
    }
   ],
   "source": [
    "q1_df = pd.read_csv(\"regression_datasets/regression_q1.csv\")\n",
    "\n",
    "q1_df.head()"
   ]
  },
  {
   "cell_type": "markdown",
   "metadata": {},
   "source": [
    "### a) Compute the covariance of the data"
   ]
  },
  {
   "cell_type": "code",
   "execution_count": 15,
   "metadata": {
    "collapsed": false
   },
   "outputs": [
    {
     "name": "stdout",
     "output_type": "stream",
     "text": [
      "The covariance is:\n",
      "122704.29\n"
     ]
    }
   ],
   "source": [
    "q1_covar = calculate_covariance(q1_df['Size'], q1_df['Price'])\n",
    "\n",
    "print(\"The covariance is:\")\n",
    "print(round(q1_covar, 2))"
   ]
  },
  {
   "cell_type": "markdown",
   "metadata": {},
   "source": [
    "### b) Using the covariance, determine if there is a relationship between the size and the price of a house and in which direction the relationship points."
   ]
  },
  {
   "cell_type": "markdown",
   "metadata": {},
   "source": [
    "The covariance is positive indicating a positive linear relationship between house price and size (increase in size implies increase in price)"
   ]
  },
  {
   "cell_type": "markdown",
   "metadata": {},
   "source": [
    "### c) Using Ordinary Least Squares, find the parameters β0 and β1 of the best fit linear model for the data."
   ]
  },
  {
   "cell_type": "code",
   "execution_count": 43,
   "metadata": {
    "collapsed": false
   },
   "outputs": [
    {
     "name": "stdout",
     "output_type": "stream",
     "text": [
      "The coefficient beta1 is equal to:\n",
      "0.246\n"
     ]
    }
   ],
   "source": [
    "q1_beta1 = q1_covar / calculate_s_squared(q1_df['Size'])\n",
    "\n",
    "print(\"The coefficient beta1 is equal to:\")\n",
    "print(round(q1_beta1, 3))"
   ]
  },
  {
   "cell_type": "code",
   "execution_count": 48,
   "metadata": {
    "collapsed": false
   },
   "outputs": [
    {
     "name": "stdout",
     "output_type": "stream",
     "text": [
      "The intercept beta2 is equal to:\n",
      "-59.253\n"
     ]
    }
   ],
   "source": [
    "q1_beta2 = calculate_beta2(q1_beta1, q1_df['Size'], q1_df['Price'])\n",
    "\n",
    "print(\"The intercept beta2 is equal to:\")\n",
    "print(round(q1_beta2, 3))"
   ]
  },
  {
   "cell_type": "markdown",
   "metadata": {},
   "source": [
    "### d) The estate agent wants to know how much of price increase to expect for every 100 sqft increase in size. What do you tell them?"
   ]
  },
  {
   "cell_type": "markdown",
   "metadata": {},
   "source": [
    "For every 100sqft increase in the house size, we would expect the house price to increase by 24.63."
   ]
  },
  {
   "cell_type": "markdown",
   "metadata": {},
   "source": [
    "### e) The estate agent has a new client who wishes to sell their house. The house is measured up and found to have a size of 2356.0 sqft. What price will the estate agent predict it should sell for?"
   ]
  },
  {
   "cell_type": "code",
   "execution_count": 50,
   "metadata": {
    "collapsed": false
   },
   "outputs": [
    {
     "name": "stdout",
     "output_type": "stream",
     "text": [
      "521.247131772\n"
     ]
    }
   ],
   "source": [
    "print(q1_beta1 * 2356 + q1_beta2)"
   ]
  },
  {
   "cell_type": "code",
   "execution_count": null,
   "metadata": {
    "collapsed": true
   },
   "outputs": [],
   "source": []
  }
 ],
 "metadata": {
  "kernelspec": {
   "display_name": "Python 3",
   "language": "python",
   "name": "python3"
  },
  "language_info": {
   "codemirror_mode": {
    "name": "ipython",
    "version": 3
   },
   "file_extension": ".py",
   "mimetype": "text/x-python",
   "name": "python",
   "nbconvert_exporter": "python",
   "pygments_lexer": "ipython3",
   "version": "3.5.1"
  }
 },
 "nbformat": 4,
 "nbformat_minor": 1
}
