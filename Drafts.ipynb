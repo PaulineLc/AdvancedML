{
 "cells": [
  {
   "cell_type": "code",
   "execution_count": 32,
   "metadata": {
    "collapsed": true
   },
   "outputs": [],
   "source": [
    "def normalize(mini, maxi, i):\n",
    "    return (i-mini) / (maxi - mini)"
   ]
  },
  {
   "cell_type": "code",
   "execution_count": 33,
   "metadata": {},
   "outputs": [
    {
     "name": "stdout",
     "output_type": "stream",
     "text": [
      "1.2559060474414476 0.9591141746424144\n"
     ]
    }
   ],
   "source": [
    "import math\n",
    "\n",
    "\n",
    "def euclidian_distance(arr):\n",
    "    distance = 0\n",
    "    for elem in arr:\n",
    "        distance += (elem[1]-elem[0])**2\n",
    "    distance = math.sqrt(distance)\n",
    "    return distance\n",
    "\n",
    "dist_x1_x3 = euclidian_dist([[1,0], [0.1, 0.2], [0.2, 0], [1, 0.33], [0.33, 0.05]])\n",
    "dis_x2_x3 = euclidian_dist([[0,0], [0.25, 0.2], [0.67, 0], [1, 0.33], [0.19, 0.05]])\n",
    "print(dist_x1_x3, dis_x2_x3)"
   ]
  },
  {
   "cell_type": "code",
   "execution_count": 48,
   "metadata": {},
   "outputs": [],
   "source": [
    "def ordinal_distance(arr):\n",
    "    distance = 0\n",
    "    for elem in arr:\n",
    "        distance += abs(elem[0] - elem[1])\n",
    "    return distance"
   ]
  },
  {
   "cell_type": "code",
   "execution_count": 52,
   "metadata": {},
   "outputs": [],
   "source": [
    "def weighted_classifier(*args, class1, class2):\n",
    "    result = {class1: 0, class2: 0}\n",
    "    for arg in args:\n",
    "        if arg[0] == class1:\n",
    "            result[class1] += (1/arg[1])\n",
    "        else:\n",
    "            result[class2] += (1/arg[1])\n",
    "    return result"
   ]
  },
  {
   "cell_type": "markdown",
   "metadata": {},
   "source": [
    "# Question 1"
   ]
  },
  {
   "cell_type": "code",
   "execution_count": 35,
   "metadata": {},
   "outputs": [
    {
     "name": "stdout",
     "output_type": "stream",
     "text": [
      "The global euclidian distance between x1 and x3 is: 3.818376618407356\nThe global euclidian distance between x2 and x3 is: 0.5196152422706631\nThe smallest distance is: 0.5196152422706631\nThe answer is: dist1_x2_x3\n"
     ]
    }
   ],
   "source": [
    "dist1_x1_x3 = euclidian_distance([[4.4, 6.1], [2.9, 3.0], [1.4, 4.6], [0.2, 1.4]])\n",
    "dist1_x2_x3 = euclidian_distance([[5.6, 6.1], [3.0, 3.0], [4.5, 4.6], [1.5, 1.4]])\n",
    "\n",
    "print(\"The global euclidian distance between x1 and x3 is:\", dist1_x1_x3)\n",
    "print(\"The global euclidian distance between x2 and x3 is:\", dist1_x2_x3)\n",
    "\n",
    "print(\"The smallest distance is:\", min(dist1_x1_x3, dist1_x2_x3))\n",
    "\n",
    "summary_of_results = dict( (name,eval(name)) for name in [\"dist1_x1_x3\", \"dist1_x2_x3\"])\n",
    "\n",
    "print(\"The answer is:\",min(summary_of_results, key=summary_of_results.get))"
   ]
  },
  {
   "cell_type": "markdown",
   "metadata": {},
   "source": [
    "# Question 2"
   ]
  },
  {
   "cell_type": "code",
   "execution_count": 41,
   "metadata": {},
   "outputs": [
    {
     "name": "stdout",
     "output_type": "stream",
     "text": [
      "feature\t\tx1\tx2\tx3\ngender\t\t0\t1\t1\nweight\t\t0.1\t0.25\t0.2\namount\t\t0.2\t0.07\t0.0\nmeal\t\t1.0\t1.00\t0.50\nduration\t0.33\t0.19\t0.05\n"
     ]
    }
   ],
   "source": [
    "x1_gender = 0\n",
    "x2_gender = 1\n",
    "x3_gender = 1\n",
    "\n",
    "min_weight = 50\n",
    "max_weight = 150\n",
    "\n",
    "x1_weight = normalize(min_weight, max_weight, 60)\n",
    "x2_weight = normalize(min_weight, max_weight, 75)\n",
    "x3_weight = normalize(min_weight, max_weight, 70)\n",
    "\n",
    "min_amount = 1\n",
    "max_amount = 16\n",
    "\n",
    "x1_amount = normalize(min_amount, max_amount, 4)\n",
    "x2_amount = normalize(min_amount, max_amount, 2)\n",
    "x3_amount = normalize(min_amount, max_amount, 1)\n",
    "\n",
    "x1_meal = 4/4\n",
    "x2_meal = 4/4\n",
    "x3_meal = 2/4\n",
    "\n",
    "min_duration = 20\n",
    "max_duration = 230\n",
    "\n",
    "x1_duration = normalize(min_duration, max_duration, 90)\n",
    "x2_duration = normalize(min_duration, max_duration, 60)\n",
    "x3_duration = normalize(min_duration, max_duration, 30)\n",
    "\n",
    "print(\"feature\\t\\tx1\\tx2\\tx3\")\n",
    "print(\"gender\\t\\t{}\\t{}\\t{}\".format(x1_gender,x2_gender,x3_gender))\n",
    "print(\"weight\\t\\t{}\\t{}\\t{}\".format(x1_weight, x2_weight,x3_weight))\n",
    "print(\"amount\\t\\t{}\\t{:.2f}\\t{}\".format(x1_amount,x2_amount,x3_amount))\n",
    "print(\"meal\\t\\t{}\\t{:.2f}\\t{:.2f}\".format(x1_meal,x2_meal,x3_meal))\n",
    "print(\"duration\\t{:.2f}\\t{:.2f}\\t{:.2f}\".format(x1_duration,x2_duration,x3_duration))"
   ]
  },
  {
   "cell_type": "code",
   "execution_count": 49,
   "metadata": {},
   "outputs": [
    {
     "name": "stdout",
     "output_type": "stream",
     "text": [
      "The distance between x1 and x3 is: 2.085714285714286\nThe distance between x2 and x3 is: 0.7595238095238095\n"
     ]
    }
   ],
   "source": [
    "dist2_x1_x3 = ordinal_distance([[x1_gender, x3_gender], \n",
    "                                [x1_weight, x3_weight],\n",
    "                                [x1_amount, x3_amount],\n",
    "                                [x1_meal, x3_meal],\n",
    "                                [x1_duration, x3_duration]])\n",
    "\n",
    "dist2_x2_x3 = ordinal_distance([[x2_gender, x3_gender],\n",
    "                                [x2_weight, x3_weight],\n",
    "                                [x2_amount, x3_amount],\n",
    "                                [x2_meal, x3_meal],\n",
    "                                [x2_duration, x3_duration]])\n",
    "\n",
    "print(\"The distance between x1 and x3 is:\", dist2_x1_x3)\n",
    "print(\"The distance between x2 and x3 is:\", dist2_x2_x3)"
   ]
  },
  {
   "cell_type": "markdown",
   "metadata": {},
   "source": [
    "# Question 3"
   ]
  },
  {
   "cell_type": "code",
   "execution_count": 54,
   "metadata": {},
   "outputs": [
    {
     "name": "stdout",
     "output_type": "stream",
     "text": [
      "{'over': 1.2222222222222223, 'under': 0.8712121212121212}\n"
     ]
    }
   ],
   "source": [
    "weighted_classification = weighted_classifier([\"over\", 1.5], \n",
    "                                              [\"over\", 1.8], \n",
    "                                              [\"under\", 2.2], \n",
    "                                              [\"under\", 2.4],\n",
    "                                              class1=\"over\", class2=\"under\")\n",
    "\n",
    "print(weighted_classification)"
   ]
  },
  {
   "cell_type": "code",
   "execution_count": null,
   "metadata": {},
   "outputs": [],
   "source": [
    ""
   ]
  }
 ],
 "metadata": {
  "kernelspec": {
   "display_name": "Python 2",
   "language": "python",
   "name": "python2"
  },
  "language_info": {
   "codemirror_mode": {
    "name": "ipython",
    "version": 2.0
   },
   "file_extension": ".py",
   "mimetype": "text/x-python",
   "name": "python",
   "nbconvert_exporter": "python",
   "pygments_lexer": "ipython2",
   "version": "2.7.6"
  }
 },
 "nbformat": 4,
 "nbformat_minor": 0
}